{
 "cells": [
  {
   "cell_type": "code",
   "execution_count": 7,
   "metadata": {},
   "outputs": [],
   "source": [
    "from bs4 import BeautifulSoup as bs\n",
    "import requests\n",
    "from pprint import pprint\n",
    "import time\n",
    "import random"
   ]
  },
  {
   "cell_type": "code",
   "execution_count": 8,
   "metadata": {},
   "outputs": [],
   "source": [
    "headers = {'User-agent': 'Mozilla/5.0 (Windows NT 5.1) AppleWebKit/537.36 (KHTML, like Gecko) Chrome/41.0.2224.3 Safari/537.36'}\n"
   ]
  },
  {
   "cell_type": "code",
   "execution_count": 9,
   "metadata": {},
   "outputs": [],
   "source": [
    "def hh(main_link, search_str, n_str):\n",
    "    #n_str - кол-во просматриваемых страниц\n",
    "    html = requests.get(main_link+'/search/vacancy?clusters=true&enable_snippets=true&text='+search_str+'&showClusters=true',headers=headers).text\n",
    "    parsed_html = bs(html,'lxml')"
   ]
  },
  {
   "cell_type": "code",
   "execution_count": 10,
   "metadata": {},
   "outputs": [
    {
     "ename": "NameError",
     "evalue": "name 'parsed_html' is not defined",
     "output_type": "error",
     "traceback": [
      "\u001b[0;31m---------------------------------------------------------------------------\u001b[0m",
      "\u001b[0;31mNameError\u001b[0m                                 Traceback (most recent call last)",
      "\u001b[0;32m<ipython-input-10-677807d5e33d>\u001b[0m in \u001b[0;36m<module>\u001b[0;34m\u001b[0m\n\u001b[1;32m      1\u001b[0m \u001b[0mjobs\u001b[0m \u001b[0;34m=\u001b[0m \u001b[0;34m[\u001b[0m\u001b[0;34m]\u001b[0m\u001b[0;34m\u001b[0m\u001b[0;34m\u001b[0m\u001b[0m\n\u001b[1;32m      2\u001b[0m \u001b[0;32mfor\u001b[0m \u001b[0mi\u001b[0m \u001b[0;32min\u001b[0m \u001b[0mrange\u001b[0m\u001b[0;34m(\u001b[0m\u001b[0mn_str\u001b[0m\u001b[0;34m)\u001b[0m\u001b[0;34m:\u001b[0m\u001b[0;34m\u001b[0m\u001b[0;34m\u001b[0m\u001b[0m\n\u001b[0;32m----> 3\u001b[0;31m     \u001b[0mjobs_block\u001b[0m \u001b[0;34m=\u001b[0m \u001b[0mparsed_html\u001b[0m\u001b[0;34m.\u001b[0m\u001b[0mfind\u001b[0m\u001b[0;34m(\u001b[0m\u001b[0;34m'div'\u001b[0m\u001b[0;34m,\u001b[0m\u001b[0;34m{\u001b[0m\u001b[0;34m'class'\u001b[0m\u001b[0;34m:\u001b[0m\u001b[0;34m'vacancy-serp'\u001b[0m\u001b[0;34m}\u001b[0m\u001b[0;34m)\u001b[0m\u001b[0;34m\u001b[0m\u001b[0;34m\u001b[0m\u001b[0m\n\u001b[0m\u001b[1;32m      4\u001b[0m     \u001b[0mjobs_list\u001b[0m \u001b[0;34m=\u001b[0m \u001b[0mjobs_block\u001b[0m\u001b[0;34m.\u001b[0m\u001b[0mfindChildren\u001b[0m\u001b[0;34m(\u001b[0m\u001b[0mrecursive\u001b[0m\u001b[0;34m=\u001b[0m\u001b[0;32mFalse\u001b[0m\u001b[0;34m)\u001b[0m\u001b[0;34m\u001b[0m\u001b[0;34m\u001b[0m\u001b[0m\n\u001b[1;32m      5\u001b[0m     \u001b[0;32mfor\u001b[0m \u001b[0mjob\u001b[0m \u001b[0;32min\u001b[0m \u001b[0mjobs_list\u001b[0m\u001b[0;34m:\u001b[0m\u001b[0;34m\u001b[0m\u001b[0;34m\u001b[0m\u001b[0m\n",
      "\u001b[0;31mNameError\u001b[0m: name 'parsed_html' is not defined"
     ]
    }
   ],
   "source": [
    "jobs = []\n",
    "for i in range(n_str):\n",
    "    jobs_block = parsed_html.find('div',{'class':'vacancy-serp'})\n",
    "    jobs_list = jobs_block.findChildren(recursive=False)\n",
    "    for job in jobs_list:\n",
    "        job_data={}\n",
    "        req=job.find('span',{'class':'g-user-content'})\n",
    "        if req!=None:\n",
    "            main_info = req.findChild()\n",
    "            job_name = main_info.getText()\n",
    "            job_link = main_info['href']\n",
    "            salary = job.find('div',{'class':'vacancy-serp-item__compensation'})\n",
    "            if not salary:\n",
    "                salary_min=None\n",
    "                salary_max=None\n",
    "            else:\n",
    "                salary=salary.getText().replace(u'\\xa0', u'')\n",
    "                salaries=salary.split('-')\n",
    "                salaries[0] = re.sub(r'[^0-9]', '', salaries[0])\n",
    "                salary_min=int(salaries[0])\n",
    "                if len(salaries)>1:\n",
    "                    salaries[1] = re.sub(r'[^0-9]', '', salaries[1])\n",
    "                    salary_max=int(salaries[1])\n",
    "                else:\n",
    "                    salary_max=None\n",
    "            job_data['name'] = job_name\n",
    "            job_data['salary_min'] = salary_min\n",
    "            job_data['salary_max'] = salary_max\n",
    "            job_data['link'] = job_link\n",
    "            job_data['site'] = main_link\n",
    "            jobs.append(job_data)\n",
    "    time.sleep(random.randint(1,10))\n",
    "    next_btn_block=parsed_html.find('a',{'class':'bloko-button HH-Pager-Controls-Next HH-Pager-Control'})\n",
    "    next_btn_link=next_btn_block['href']\n",
    "    html = requests.get(main_link+next_btn_link,headers=headers).text\n",
    "    parsed_html = bs(html,'lxml')\n",
    "\n",
    "pprint(jobs)\n",
    "return jobs"
   ]
  },
  {
   "cell_type": "code",
   "execution_count": 11,
   "metadata": {},
   "outputs": [],
   "source": [
    "def superjob(main_link, search_str, n_str):\n",
    "    #n_str - кол-во просматриваемых страниц\n",
    "    base_url=main_link+'/vacancy/search/?keywords='+search_str+'&geo%5Bc%5D%5B0%5D=1'\n",
    "    jobs = []\n",
    "    session = requests.Session()\n",
    "    for i in range(n_str):\n",
    "        request = session.get(base_url, headers=headers)\n",
    "        if request.status_code == 200:\n",
    "            soup = bs(request.content, 'lxml')\n",
    "            divs = soup.find_all('div', {'class':'_3zucV _2GPIV f-test-vacancy-item i6-sc _3VcZr'})\n",
    "            for div in divs:\n",
    "                title = div.find('div', {'class': '_3mfro CuJz5 PlM3e _2JVkc _3LJqf'}).text\n",
    "                href = div.find('div', {'class': '_3mfro CuJz5 PlM3e _2JVkc _3LJqf'}).findParent()['href']\n",
    "                salary = div.find('span', {'class': '_3mfro _2Wp8I f-test-text-company-item-salary PlM3e _2JVkc _2VHxz'}).text\n",
    "                salary=salary.replace(u'\\xa0', u'')\n",
    "                if '—' in salary:\n",
    "                    salary_min = salary.split('—')[0]\n",
    "                    salary_min = re.sub(r'[^0-9]', '', salary_min)\n",
    "                    salary_max = salary.split('—')[1]\n",
    "                    salary_max = re.sub(r'[^0-9]', '', salary_max)\n",
    "                    salary_min = int(salary_min)\n",
    "                    salary_max = int(salary_max)\n",
    "                elif 'от' in salary:\n",
    "                    salary_min = salary[2:]\n",
    "                    salary_min = re.sub(r'[^0-9]', '', salary_min)\n",
    "                    salary_min = int(salary_min)\n",
    "                    salary_max = None\n",
    "                elif 'договорённости' in salary:\n",
    "                    salary_min = None\n",
    "                    salary_max = None\n",
    "                elif 'до' in salary:\n",
    "                    salary_min = None\n",
    "                    salary_max = salary[2:]\n",
    "                    salary_max = re.sub(r'[^0-9]', '', salary_max)\n",
    "                    salary_max = int(salary_max)\n",
    "                else:\n",
    "                    salary_min = int(re.sub(r'[^0-9]', '', salary))\n",
    "                    salary_max = int(re.sub(r'[^0-9]', '', salary))\n",
    "\n",
    "                jobs.append({\n",
    "                    'title': title,\n",
    "                    'href': 'https://www.superjob.ru'+href,\n",
    "                    'salary_min': salary_min,\n",
    "                    'salary_max': salary_max,\n",
    "                    'link': main_link\n",
    "                })\n",
    "            base_url = main_link + \\\n",
    "                       soup.find('a', {'class': 'icMQ_ _1_Cht _3ze9n f-test-button-dalshe f-test-link-dalshe'})['href']\n",
    "            time.sleep(random.randint(1,10))\n",
    "        else:\n",
    "            print('Ошибка')\n",
    "\n",
    "    pprint(jobs)\n",
    "    return jobs"
   ]
  },
  {
   "cell_type": "code",
   "execution_count": 12,
   "metadata": {},
   "outputs": [],
   "source": [
    "search_str='Python'\n",
    "n_str=2"
   ]
  },
  {
   "cell_type": "code",
   "execution_count": 13,
   "metadata": {},
   "outputs": [
    {
     "ename": "TypeError",
     "evalue": "'NoneType' object is not subscriptable",
     "output_type": "error",
     "traceback": [
      "\u001b[0;31m---------------------------------------------------------------------------\u001b[0m",
      "\u001b[0;31mTypeError\u001b[0m                                 Traceback (most recent call last)",
      "\u001b[0;32m<ipython-input-13-bd48572fb4e0>\u001b[0m in \u001b[0;36m<module>\u001b[0;34m\u001b[0m\n\u001b[1;32m      1\u001b[0m \u001b[0mhh\u001b[0m\u001b[0;34m(\u001b[0m\u001b[0;34m'https://moscow.hh.ru'\u001b[0m\u001b[0;34m,\u001b[0m\u001b[0msearch_str\u001b[0m\u001b[0;34m,\u001b[0m\u001b[0mn_str\u001b[0m\u001b[0;34m)\u001b[0m\u001b[0;34m\u001b[0m\u001b[0;34m\u001b[0m\u001b[0m\n\u001b[0;32m----> 2\u001b[0;31m \u001b[0msuperjob\u001b[0m\u001b[0;34m(\u001b[0m\u001b[0;34m'https://www.superjob.ru'\u001b[0m\u001b[0;34m,\u001b[0m\u001b[0msearch_str\u001b[0m\u001b[0;34m,\u001b[0m\u001b[0mn_str\u001b[0m\u001b[0;34m)\u001b[0m\u001b[0;34m\u001b[0m\u001b[0;34m\u001b[0m\u001b[0m\n\u001b[0m",
      "\u001b[0;32m<ipython-input-11-36f508b5bbaa>\u001b[0m in \u001b[0;36msuperjob\u001b[0;34m(main_link, search_str, n_str)\u001b[0m\n\u001b[1;32m     46\u001b[0m                 })\n\u001b[1;32m     47\u001b[0m             \u001b[0mbase_url\u001b[0m \u001b[0;34m=\u001b[0m \u001b[0mmain_link\u001b[0m \u001b[0;34m+\u001b[0m\u001b[0;31m \u001b[0m\u001b[0;31m\\\u001b[0m\u001b[0;34m\u001b[0m\u001b[0;34m\u001b[0m\u001b[0m\n\u001b[0;32m---> 48\u001b[0;31m                        \u001b[0msoup\u001b[0m\u001b[0;34m.\u001b[0m\u001b[0mfind\u001b[0m\u001b[0;34m(\u001b[0m\u001b[0;34m'a'\u001b[0m\u001b[0;34m,\u001b[0m \u001b[0;34m{\u001b[0m\u001b[0;34m'class'\u001b[0m\u001b[0;34m:\u001b[0m \u001b[0;34m'icMQ_ _1_Cht _3ze9n f-test-button-dalshe f-test-link-dalshe'\u001b[0m\u001b[0;34m}\u001b[0m\u001b[0;34m)\u001b[0m\u001b[0;34m[\u001b[0m\u001b[0;34m'href'\u001b[0m\u001b[0;34m]\u001b[0m\u001b[0;34m\u001b[0m\u001b[0;34m\u001b[0m\u001b[0m\n\u001b[0m\u001b[1;32m     49\u001b[0m             \u001b[0mtime\u001b[0m\u001b[0;34m.\u001b[0m\u001b[0msleep\u001b[0m\u001b[0;34m(\u001b[0m\u001b[0mrandom\u001b[0m\u001b[0;34m.\u001b[0m\u001b[0mrandint\u001b[0m\u001b[0;34m(\u001b[0m\u001b[0;36m1\u001b[0m\u001b[0;34m,\u001b[0m\u001b[0;36m10\u001b[0m\u001b[0;34m)\u001b[0m\u001b[0;34m)\u001b[0m\u001b[0;34m\u001b[0m\u001b[0;34m\u001b[0m\u001b[0m\n\u001b[1;32m     50\u001b[0m         \u001b[0;32melse\u001b[0m\u001b[0;34m:\u001b[0m\u001b[0;34m\u001b[0m\u001b[0;34m\u001b[0m\u001b[0m\n",
      "\u001b[0;31mTypeError\u001b[0m: 'NoneType' object is not subscriptable"
     ]
    }
   ],
   "source": [
    "hh('https://moscow.hh.ru',search_str,n_str)\n",
    "superjob('https://www.superjob.ru',search_str,n_str)"
   ]
  },
  {
   "cell_type": "code",
   "execution_count": null,
   "metadata": {},
   "outputs": [],
   "source": []
  }
 ],
 "metadata": {
  "kernelspec": {
   "display_name": "Python 3",
   "language": "python",
   "name": "python3"
  },
  "language_info": {
   "codemirror_mode": {
    "name": "ipython",
    "version": 3
   },
   "file_extension": ".py",
   "mimetype": "text/x-python",
   "name": "python",
   "nbconvert_exporter": "python",
   "pygments_lexer": "ipython3",
   "version": "3.7.6"
  }
 },
 "nbformat": 4,
 "nbformat_minor": 4
}
